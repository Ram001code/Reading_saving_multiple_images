{
 "cells": [
  {
   "cell_type": "code",
   "execution_count": 1,
   "id": "afe55d8d",
   "metadata": {},
   "outputs": [],
   "source": [
    "import os\n",
    "import pandas as pd\n",
    "import seaborn as sns\n",
    "import matplotlib.pyplot as plt\n",
    "import warnings\n",
    "import cv2\n",
    "import numpy as np"
   ]
  },
  {
   "cell_type": "markdown",
   "id": "76c6f16f",
   "metadata": {},
   "source": [
    "### Method-1"
   ]
  },
  {
   "cell_type": "code",
   "execution_count": 11,
   "id": "734d68cb",
   "metadata": {},
   "outputs": [],
   "source": [
    "''' working '''\n",
    "\n",
    "import glob\n",
    "\n",
    "path= \"dataset/test_images/*.*\"\n",
    "\n",
    "img_number=1\n",
    "for file in glob.glob(path):\n",
    "    #print(file)\n",
    "    img=cv2.imread(file)\n",
    "    cv2.imwrite(\"D:/Albot/Medical Imaging-Eyes/code/Jupyter notebook/dataset/test_images_resized_preprocessed/imge\"+ str(img_number)+\".png\", img)\n",
    "    img_number +=1"
   ]
  },
  {
   "cell_type": "markdown",
   "id": "8e2d7075",
   "metadata": {},
   "source": [
    "### Method-2"
   ]
  },
  {
   "cell_type": "code",
   "execution_count": 15,
   "id": "3a80efc1",
   "metadata": {},
   "outputs": [],
   "source": [
    "img_number= 1\n",
    "for root, dirs, files in os.walk(\"dataset/test_images\"):\n",
    "    for name in files:\n",
    "        #print(os.path.join(root,name))\n",
    "        path=os.path.join(root,name) \n",
    "        img= cv2.imread(path)\n",
    "        cv2.imwrite(\"dataset/test_images_resized_preprocessed/imge\"+ str(img_number)+\".jpg\", img)\n",
    "        img_number+=1"
   ]
  },
  {
   "cell_type": "markdown",
   "id": "709b5694",
   "metadata": {},
   "source": [
    "### Method-3"
   ]
  },
  {
   "cell_type": "code",
   "execution_count": 25,
   "id": "ad16ae68",
   "metadata": {},
   "outputs": [
    {
     "name": "stdout",
     "output_type": "stream",
     "text": [
      "(366, 512, 512, 3)\n"
     ]
    }
   ],
   "source": [
    "images_list= []\n",
    "size= 512\n",
    "\n",
    "path= \"dataset/test_images/*.*\"\n",
    "\n",
    "for file in glob.glob(path):\n",
    "    #print(file)\n",
    "    img= cv2.imread(file)\n",
    "    img= cv2.resize(img, (size,size))\n",
    "    images_list.append(img)\n",
    "    \n",
    "images_list= np.array(images_list)\n",
    "\n",
    "print(images_list.shape)\n",
    "\n",
    "img_number = 1\n",
    "\n",
    "for image in range(images_list.shape[0]):\n",
    "    input_img= images_list[image,:,:]\n",
    "    cv2.imwrite(\"dataset/test_images_resized_preprocessed/imge\"+str(img_number)+\".jpg\", input_img)\n",
    "    img_number +=1\n",
    "    "
   ]
  },
  {
   "cell_type": "markdown",
   "id": "1a563074",
   "metadata": {},
   "source": [
    "### Method-4"
   ]
  },
  {
   "cell_type": "code",
   "execution_count": 29,
   "id": "f4913499",
   "metadata": {},
   "outputs": [],
   "source": [
    "import os\n",
    "from PIL import Image \n",
    "input_path= \"dataset/test_images/\"\n",
    "output_path= \"dataset/test_images_resized_preprocessed/\"\n",
    "\n",
    "for filename in os.listdir(input_path):\n",
    "    #print(filename)\n",
    "    img= Image.open(os.path.join(input_path, filename))\n",
    "    img= img.resize((512,512), Image.ANTIALIAS)\n",
    "    img.save(output_path+filename+'.png')\n"
   ]
  },
  {
   "cell_type": "markdown",
   "id": "7e19512b",
   "metadata": {},
   "source": [
    "### Method-5"
   ]
  },
  {
   "cell_type": "markdown",
   "id": "990415d6",
   "metadata": {},
   "source": [
    "Saving the image into another folder with same image name "
   ]
  },
  {
   "cell_type": "code",
   "execution_count": 33,
   "id": "922facab",
   "metadata": {},
   "outputs": [],
   "source": [
    "import os\n",
    "from PIL import Image \n",
    "input_path= \"dataset/test_images/\"\n",
    "output_path= \"dataset/test_images_resized_preprocessed/\"\n",
    "\n",
    "for root, dirs, files in os.walk(input_path):\n",
    "    for image_name in files:\n",
    "        #print(image_name)\n",
    "        if '.png' in image_name:\n",
    "            filepath= os.path.join(input_path, image_name)   #Reading path \n",
    "            outpath= os.path.join(output_path, image_name)   #Writing Path \n",
    "            img= cv2.imread(filepath)\n",
    "            img= cv2.resize(img,(512,512))\n",
    "            cv2.imwrite(outpath, img)\n",
    "\n"
   ]
  },
  {
   "cell_type": "markdown",
   "id": "776036e3",
   "metadata": {},
   "source": [
    "Reading stack of images from a directory "
   ]
  },
  {
   "cell_type": "code",
   "execution_count": null,
   "id": "37c57f2e",
   "metadata": {},
   "outputs": [],
   "source": [
    "image_directory = 'data/Normal cases'    #directory where images are present.\n",
    "SIZE = 224\n",
    "dataset3 = []\n",
    "\n",
    "\n",
    "\n",
    "my_images = os.listdir(image_directory)\n",
    "for i, image_name in enumerate(my_images):\n",
    "    #if (image_name.split('.')[1] == 'JPG'):\n",
    "        input_img2= os.path.join(image_directory,image_name)\n",
    "        image2 = io.imread(input_img2)\n",
    "        image2 = Image.fromarray(image2, 'RGB')\n",
    "        image2 = image2.resize((SIZE,SIZE))\n",
    "        dataset3.append(np.array(image2))\n",
    "\n",
    "x3 = np.array(dataset3)"
   ]
  }
 ],
 "metadata": {
  "kernelspec": {
   "display_name": "Python 3",
   "language": "python",
   "name": "python3"
  },
  "language_info": {
   "codemirror_mode": {
    "name": "ipython",
    "version": 3
   },
   "file_extension": ".py",
   "mimetype": "text/x-python",
   "name": "python",
   "nbconvert_exporter": "python",
   "pygments_lexer": "ipython3",
   "version": "3.6.13"
  }
 },
 "nbformat": 4,
 "nbformat_minor": 5
}
